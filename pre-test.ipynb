{
 "cells": [
  {
   "cell_type": "code",
   "execution_count": 1,
   "metadata": {},
   "outputs": [
    {
     "output_type": "stream",
     "name": "stderr",
     "text": [
      "/data/miniconda3/envs/env_clone-3.9.16/lib/python3.9/site-packages/tqdm/auto.py:21: TqdmWarning: IProgress not found. Please update jupyter and ipywidgets. See https://ipywidgets.readthedocs.io/en/stable/user_install.html\n",
      "  from .autonotebook import tqdm as notebook_tqdm\n",
      "/data/miniconda3/envs/env_clone-3.9.16/lib/python3.9/site-packages/torch_npu/utils/path_manager.py:82: UserWarning: Warning: The /usr/local/Ascend/ascend-toolkit/latest owner does not match the current user.\n",
      "  warnings.warn(f\"Warning: The {path} owner does not match the current user.\")\n",
      "/data/miniconda3/envs/env_clone-3.9.16/lib/python3.9/site-packages/torch_npu/utils/path_manager.py:82: UserWarning: Warning: The /usr/local/Ascend/ascend-toolkit/8.0.RC2.alpha003/x86_64-linux/ascend_toolkit_install.info owner does not match the current user.\n",
      "  warnings.warn(f\"Warning: The {path} owner does not match the current user.\")\n"
     ]
    }
   ],
   "source": [
    "import sys\n",
    "import re\n",
    "import copy\n",
    "from tqdm import tqdm\n",
    "import random\n",
    "import json\n",
    "\n",
    "import time\n",
    "from tqdm import tqdm\n",
    "import requests\n",
    "import faiss\n",
    "import numpy as np\n",
    "from SimCSE_append import SimCSE_append as SimCSE\n",
    "from shared.prompt import instance\n",
    "from transformers import AutoTokenizer\n",
    "from transformers import AutoModelForCausalLM\n",
    "from transformers import pipeline\n",
    "from KNN_RE import get_train_example, find_knn_example, find_lmknn_example\n",
    "from load_model import get_emb,Args\n",
    "from label_explain import SemEval_label2exp\n",
    "sys.path.append(\"/group/40064/johnbli/Code/UGC\")\n",
    "from examples.gpt_http import retry_request_openai_summary\n",
    "from distort import Filter\n",
    "\n",
    "params = {\n",
    "    # 任务信息\n",
    "    \"env\": \"production\",  # 必填，（取值范围：production、development）\n",
    "    \"task_name\": \"逃出精神病院\",\n",
    "    \"task_type\": \"文本生成任务\",  # 必填，任务类型（取值范围：qa任务、文本生成任务、整段对话生产、多轮对话、其他）\n",
    "    \"task_description\": \"\",\n",
    "    \"business_id\":\"134\"\n",
    "}\n",
    "import copy\n",
    "import math"
   ]
  },
  {
   "cell_type": "code",
   "execution_count": 2,
   "metadata": {},
   "outputs": [],
   "source": [
    "dataset_path = \"/group/40064/johnbli/Code/GPT-RE/dataset/semeval_gpt/test.json\"\n",
    "\n",
    "test_data = []\n",
    "with open(dataset_path, \"r\") as f:\n",
    "    for line in f:\n",
    "        line = json.loads(line)\n",
    "        test_data.append(line)\n"
   ]
  },
  {
   "cell_type": "code",
   "execution_count": 3,
   "metadata": {},
   "outputs": [
    {
     "output_type": "execute_result",
     "data": {
      "text/plain": [
       "{'sentences': [['the',\n",
       "   'most',\n",
       "   'common',\n",
       "   'audits',\n",
       "   'were',\n",
       "   'about',\n",
       "   'waste',\n",
       "   'and',\n",
       "   'recycling',\n",
       "   '.']],\n",
       " 'ner': [[[3, 3, 'sub'], [6, 6, 'obj']]],\n",
       " 'predicted_ner': [[[3, 3, 'sub'], [6, 6, 'obj']]],\n",
       " 'relations': [[[3, 3, 6, 6, 'Message-Topic']]],\n",
       " 'doc_key': '0oftrain'}"
      ]
     },
     "metadata": {},
     "execution_count": 3
    }
   ],
   "source": [
    "test_data[0]"
   ]
  },
  {
   "cell_type": "code",
   "execution_count": 4,
   "metadata": {},
   "outputs": [],
   "source": [
    "semeval_idtoprompt = {0:\"NONE\",1:\"CAUSE AND EFFECT\", 2:\"COMPONENT AND WHOLE\", 3:\"ENTITY AND DESTINATION\",4:\"ENTITY AND ORIGIN\",5:\"PRODUCT AND PRODUCER\",6:\"MEMBER AND COLLECTION\",7:\"MESSAGE AND TOPIC\",8:\"CONTENT AND CONTAINER\",9:\"INSTRUMENT AND AGENCY\"}\n",
    "semeval_reltoid = {\"Other\":0,\"Cause-Effect\":1, \"Component-Whole\":2, \"Entity-Destination\":3, \"Entity-Origin\":4, \"Product-Producer\": 5, \"Member-Collection\":6, \"Message-Topic\": 7, \"Content-Container\":8, \"Instrument-Agency\":9}\n"
   ]
  },
  {
   "cell_type": "code",
   "execution_count": 5,
   "metadata": {},
   "outputs": [],
   "source": [
    "GPT_PROMPT = '''\n",
    "You are a relation extraction expert specializing in the field of relation extraction, responsible for identifying and extracting the relationship between entities from text to support applications such as information retrieval, knowledge graph construction and data analysis. The following is the entity information:\n",
    "\n",
    "Entity 1: {ent1}\n",
    "\n",
    "Entity 2: {ent2}\n",
    "\n",
    "The categories of relations include the following: {rels}\n",
    "\n",
    "Your task is to process the text given below to accurately identify and extract the relationship between entity 1 and entity 2 in the text from the list of relation categories.\n",
    "\n",
    "**Requirements**\n",
    "You must accurately identify the type of relationship between entities in the sentence.\n",
    "The response should not contain any information other than the entity category.\n",
    "\n",
    "**Examples**\n",
    "{examples}\n",
    "\n",
    "Please judge the relationship between the following sentences based on the above examples:\n",
    "**Input**\n",
    "{sen}\n",
    "\n",
    "Output format:\n",
    "Relation: XXX\n",
    "\n",
    "'''"
   ]
  },
  {
   "cell_type": "code",
   "execution_count": 6,
   "metadata": {},
   "outputs": [],
   "source": [
    "LLaMA_PROMPT = '''\n",
    "You are a system prompt generation expert specializing in the field of relation extraction, responsible for identifying and extracting the relationship between entities from text to support applications such as information retrieval, knowledge graph construction and data analysis. The following is the entity information:\n",
    "\n",
    "Entity 1: {ent1}\n",
    "\n",
    "Entity 2: {ent2}\n",
    "\n",
    "The categories of relations include the following: {rels}\n",
    "\n",
    "Your task is to process the text given below to accurately identify and extract the relationship between entity 1 and entity 2 in the text from the list of relation categories.\n",
    "\n",
    "**Examples**\n",
    "{examples}\n",
    "\n",
    "**Requirements**\n",
    "You must accurately identify the type of relationship between entities in the sentence\n",
    "The response should not contain any information other than the entity category\n",
    "\n",
    "Please judge the relationship between the following sentences based on the above examples:\n",
    "**Input**\n",
    "{sen}\n",
    "\n",
    "Output format:\n",
    "Relation: XXX\n",
    "\n",
    "'''"
   ]
  },
  {
   "source": [
    "**Qwen2.5-7B**"
   ],
   "cell_type": "markdown",
   "metadata": {}
  },
  {
   "cell_type": "code",
   "execution_count": 7,
   "metadata": {},
   "outputs": [],
   "source": [
    "model_name_or_path = '/group/40064/heyfonli/model_hub/Qwen2.5-7B-Instruct/'\n",
    "# model_name_or_path = \"/group/40064/johnbli/LLM-based-models/LLama3/Meta-Llama-3-8B-Instruct\""
   ]
  },
  {
   "cell_type": "code",
   "execution_count": 8,
   "metadata": {},
   "outputs": [
    {
     "output_type": "stream",
     "name": "stderr",
     "text": [
      "Loading checkpoint shards: 100%|██████████| 4/4 [00:32<00:00,  8.24s/it]\n"
     ]
    }
   ],
   "source": [
    "model = AutoModelForCausalLM.from_pretrained(model_name_or_path, device_map='npu:2', trust_remote_code=True)"
   ]
  },
  {
   "cell_type": "code",
   "execution_count": 9,
   "metadata": {},
   "outputs": [
    {
     "output_type": "stream",
     "name": "stderr",
     "text": [
      "Special tokens have been added in the vocabulary, make sure the associated word embeddings are fine-tuned or trained.\n"
     ]
    }
   ],
   "source": [
    "tokenizer = AutoTokenizer.from_pretrained(model_name_or_path)"
   ]
  },
  {
   "cell_type": "code",
   "execution_count": 10,
   "metadata": {},
   "outputs": [],
   "source": [
    "def get_Qwen_res_7b(ent1, ent2, rels, examples, sentence):\n",
    "    prompt = GPT_PROMPT.format(ent1 = ent1,ent2 = ent2,rels=rels,examples=examples, sen = sentence)\n",
    "    messages = [{'role': 'system', 'content': 'You are an AI assistant '}, {'role': 'user', 'content': prompt}]\n",
    "    text = tokenizer.apply_chat_template(\n",
    "        messages,\n",
    "        tokenize=False,\n",
    "        add_generation_prompt=True\n",
    "    )\n",
    "    # print(text)\n",
    "    model_inputs = tokenizer([text], return_tensors=\"pt\").to('npu:2')\n",
    "    generated_ids = model.generate(\n",
    "            **model_inputs,\n",
    "            max_new_tokens=512,\n",
    "            do_sample=True,\n",
    "            temperature=0.9,\n",
    "            top_p = 0,\n",
    "            top_k = 1\n",
    "        )\n",
    "    generated_ids = [\n",
    "        output_ids[len(input_ids):] for input_ids, output_ids in zip(model_inputs.input_ids, generated_ids)\n",
    "    ]\n",
    "\n",
    "    response = tokenizer.batch_decode(generated_ids, skip_special_tokens=True)[0]\n",
    "    return [response]\n"
   ]
  },
  {
   "cell_type": "code",
   "execution_count": 11,
   "metadata": {},
   "outputs": [],
   "source": [
    "TRAIN_SUP = '''\n",
    "Sample {num}:\n",
    "    Entity 1: {ent1}\n",
    "    Entity 2: {ent2}\n",
    "    Input:{sen}\n",
    "    Output:Relation: {label}\n",
    "'''"
   ]
  },
  {
   "cell_type": "code",
   "execution_count": 12,
   "metadata": {},
   "outputs": [],
   "source": [
    "use_instance = True\n",
    "use_knn = True\n",
    "use_pipline = False\n",
    "k_sample = 5\n",
    "\n",
    "example_dict = get_train_example(\"/group/40064/johnbli/Code/GPT-RE/dataset/semeval_gpt/train.json\", semeval_reltoid, 0)\n",
    "train_list = [x for y in example_dict.values() for x in y]\n",
    "# train_list = [x for x in train_list if semeval_reltoid[x[\"relations\"][0][0][4]] != 0]\n",
    "train_sentences = [instance(x).reference for x in train_list]\n",
    "train_dict = {instance(x).reference:x for x in train_list}\n"
   ]
  },
  {
   "cell_type": "code",
   "execution_count": 13,
   "metadata": {},
   "outputs": [
    {
     "output_type": "stream",
     "name": "stderr",
     "text": [
      "/data/miniconda3/envs/env_clone-3.9.16/lib/python3.9/site-packages/torch/_utils.py:831: UserWarning: TypedStorage is deprecated. It will be removed in the future and UntypedStorage will be the only storage class. This should only matter to you if you are using storages directly.  To access UntypedStorage directly, use tensor.untyped_storage() instead of tensor.storage()\n",
      "  return self.fget.__get__(instance, owner)()\n",
      "01/12/2025 11:37:32 - INFO - simcse.tool -   Encoding embeddings for sentences...\n",
      "100%|██████████| 102/102 [02:01<00:00,  1.19s/it]\n",
      "01/12/2025 11:39:34 - INFO - simcse.tool -   Building index...\n",
      "01/12/2025 11:39:34 - INFO - simcse.tool -   Use CPU-version faiss\n",
      "01/12/2025 11:39:34 - INFO - simcse.tool -   Finished\n"
     ]
    }
   ],
   "source": [
    "if use_knn:\n",
    "    knn_model = SimCSE(\"/group/40064/johnbli/bert-based-models/sup-simcse-roberta-large\")\n",
    "    knn_model.build_index(train_sentences, device=\"cpu\")"
   ]
  },
  {
   "cell_type": "code",
   "execution_count": 14,
   "metadata": {},
   "outputs": [],
   "source": [
    "import torch\n",
    "from distort import Distort\n",
    "from distort import Filter\n",
    "if use_pipline:\n",
    "\n",
    "    # res = faiss.StandardGpuResources()  # 不再需要初始化GPU资\n",
    "    # gpu_index_flat = faiss.index_cpu_to_gpu(res, 0, index_flat)  # 不需要转移到GPU\n",
    "    index_flat = faiss.IndexFlatL2(768)  # 创建一个使用L2距离的平面索引\n",
    "    cpu_index_flat = index_flat  # 直接使用CPU索引\n",
    "    args =Args()\n",
    "    dataset = 'SemEval'\n",
    "    retriever_plm = \"/group/40064/johnbli/bert-based-models/bert_base_uncased\"\n",
    "    device = torch.device(\"npu:2\")\n",
    "    train_samples = get_emb(args, train_list, dataset, retriever_plm, k_sample, device) #使用全部数据集\n",
    "    # train_samples = get_emb(args, \"\", dataset, retriever_plm, k_sample, device) #使用部分数据集\n",
    "\n",
    "    embed_list = np.array(train_samples)\n",
    "    cpu_index_flat.add(embed_list)  # 使用CPU索引添加特征向量\n"
   ]
  },
  {
   "cell_type": "code",
   "execution_count": 15,
   "metadata": {},
   "outputs": [],
   "source": [
    "def get_example(item):\n",
    "    sentences_list = item[\"sentences\"][0]\n",
    "    ent1 = \" \".join(sentences_list[item[\"ner\"][0][0][0]:item[\"ner\"][0][0][1]+1])\n",
    "    ent2 = \" \".join(sentences_list[item[\"ner\"][0][1][0]:item[\"ner\"][0][1][1]+1])\n",
    "    sentence = \" \".join(sentences_list)\n",
    "    label = item[\"relations\"][0][0][-1]\n",
    "    return ent1,ent2,sentence,label"
   ]
  },
  {
   "source": [
    "**测试代码-top5**"
   ],
   "cell_type": "markdown",
   "metadata": {}
  },
  {
   "cell_type": "code",
   "execution_count": 85,
   "metadata": {},
   "outputs": [],
   "source": [
    "def get_embeddings(items, model, is_train = True, delta = 0.1):\n",
    "    examples_mask = [instance(x).reference for x in items]\n",
    "    examples = [instance(x['origin']).reference for x in items]\n",
    "    embeddings_mask = model.encode(examples_mask)\n",
    "    embedding = model.encode(examples)\n",
    "\n",
    "    # 去除最关键部分\n",
    "    model.encode_mask(embedding, examples, k=2)\n",
    "    # 修改状态向量\n",
    "    sub_embedding = embedding - delta * embeddings_mask\n",
    "    if not is_train:\n",
    "        return embedding\n",
    "    OUT = torch.cat([embedding, sub_embedding], dim = 0)\n",
    "    return OUT\n"
   ]
  },
  {
   "cell_type": "code",
   "execution_count": 86,
   "metadata": {
    "tags": [
     "outputPrepend"
    ]
   },
   "outputs": [
    {
     "output_type": "stream",
     "name": "stderr",
     "text": [
      ".9.16/lib/python3.9/site-packages/sklearn/cluster/_kmeans.py:1416: FutureWarning: The default value of `n_init` will change from 10 to 'auto' in 1.4. Set the value of `n_init` explicitly to suppress the warning\n",
      "  super()._check_params_vs_input(X, default_n_init=10)\n",
      "/data/miniconda3/envs/env_clone-3.9.16/lib/python3.9/site-packages/sklearn/cluster/_kmeans.py:1416: FutureWarning: The default value of `n_init` will change from 10 to 'auto' in 1.4. Set the value of `n_init` explicitly to suppress the warning\n",
      "  super()._check_params_vs_input(X, default_n_init=10)\n",
      "/data/miniconda3/envs/env_clone-3.9.16/lib/python3.9/site-packages/sklearn/cluster/_kmeans.py:1416: FutureWarning: The default value of `n_init` will change from 10 to 'auto' in 1.4. Set the value of `n_init` explicitly to suppress the warning\n",
      "  super()._check_params_vs_input(X, default_n_init=10)\n",
      "/data/miniconda3/envs/env_clone-3.9.16/lib/python3.9/site-packages/sklearn/cluster/_kmeans.py:1416: FutureWarning: The default value of `n_init` will change from 10 to 'auto' in 1.4. Set the value of `n_init` explicitly to suppress the warning\n",
      "  super()._check_params_vs_input(X, default_n_init=10)\n",
      "/data/miniconda3/envs/env_clone-3.9.16/lib/python3.9/site-packages/sklearn/cluster/_kmeans.py:1416: FutureWarning: The default value of `n_init` will change from 10 to 'auto' in 1.4. Set the value of `n_init` explicitly to suppress the warning\n",
      "  super()._check_params_vs_input(X, default_n_init=10)\n",
      "/data/miniconda3/envs/env_clone-3.9.16/lib/python3.9/site-packages/sklearn/cluster/_kmeans.py:1416: FutureWarning: The default value of `n_init` will change from 10 to 'auto' in 1.4. Set the value of `n_init` explicitly to suppress the warning\n",
      "  super()._check_params_vs_input(X, default_n_init=10)\n",
      "/data/miniconda3/envs/env_clone-3.9.16/lib/python3.9/site-packages/sklearn/cluster/_kmeans.py:1416: FutureWarning: The default value of `n_init` will change from 10 to 'auto' in 1.4. Set the value of `n_init` explicitly to suppress the warning\n",
      "  super()._check_params_vs_input(X, default_n_init=10)\n",
      "/data/miniconda3/envs/env_clone-3.9.16/lib/python3.9/site-packages/sklearn/cluster/_kmeans.py:1416: FutureWarning: The default value of `n_init` will change from 10 to 'auto' in 1.4. Set the value of `n_init` explicitly to suppress the warning\n",
      "  super()._check_params_vs_input(X, default_n_init=10)\n",
      "/data/miniconda3/envs/env_clone-3.9.16/lib/python3.9/site-packages/sklearn/cluster/_kmeans.py:1416: FutureWarning: The default value of `n_init` will change from 10 to 'auto' in 1.4. Set the value of `n_init` explicitly to suppress the warning\n",
      "  super()._check_params_vs_input(X, default_n_init=10)\n",
      "/data/miniconda3/envs/env_clone-3.9.16/lib/python3.9/site-packages/sklearn/cluster/_kmeans.py:1416: FutureWarning: The default value of `n_init` will change from 10 to 'auto' in 1.4. Set the value of `n_init` explicitly to suppress the warning\n",
      "  super()._check_params_vs_input(X, default_n_init=10)\n",
      "/data/miniconda3/envs/env_clone-3.9.16/lib/python3.9/site-packages/sklearn/cluster/_kmeans.py:1416: FutureWarning: The default value of `n_init` will change from 10 to 'auto' in 1.4. Set the value of `n_init` explicitly to suppress the warning\n",
      "  super()._check_params_vs_input(X, default_n_init=10)\n",
      "/data/miniconda3/envs/env_clone-3.9.16/lib/python3.9/site-packages/sklearn/cluster/_kmeans.py:1416: FutureWarning: The default value of `n_init` will change from 10 to 'auto' in 1.4. Set the value of `n_init` explicitly to suppress the warning\n",
      "  super()._check_params_vs_input(X, default_n_init=10)\n",
      "/data/miniconda3/envs/env_clone-3.9.16/lib/python3.9/site-packages/sklearn/cluster/_kmeans.py:1416: FutureWarning: The default value of `n_init` will change from 10 to 'auto' in 1.4. Set the value of `n_init` explicitly to suppress the warning\n",
      "  super()._check_params_vs_input(X, default_n_init=10)\n",
      "/data/miniconda3/envs/env_clone-3.9.16/lib/python3.9/site-packages/sklearn/cluster/_kmeans.py:1416: FutureWarning: The default value of `n_init` will change from 10 to 'auto' in 1.4. Set the value of `n_init` explicitly to suppress the warning\n",
      "  super()._check_params_vs_input(X, default_n_init=10)\n",
      "/data/miniconda3/envs/env_clone-3.9.16/lib/python3.9/site-packages/sklearn/cluster/_kmeans.py:1416: FutureWarning: The default value of `n_init` will change from 10 to 'auto' in 1.4. Set the value of `n_init` explicitly to suppress the warning\n",
      "  super()._check_params_vs_input(X, default_n_init=10)\n",
      "/data/miniconda3/envs/env_clone-3.9.16/lib/python3.9/site-packages/sklearn/cluster/_kmeans.py:1416: FutureWarning: The default value of `n_init` will change from 10 to 'auto' in 1.4. Set the value of `n_init` explicitly to suppress the warning\n",
      "  super()._check_params_vs_input(X, default_n_init=10)\n",
      "/data/miniconda3/envs/env_clone-3.9.16/lib/python3.9/site-packages/sklearn/cluster/_kmeans.py:1416: FutureWarning: The default value of `n_init` will change from 10 to 'auto' in 1.4. Set the value of `n_init` explicitly to suppress the warning\n",
      "  super()._check_params_vs_input(X, default_n_init=10)\n",
      "/data/miniconda3/envs/env_clone-3.9.16/lib/python3.9/site-packages/sklearn/cluster/_kmeans.py:1416: FutureWarning: The default value of `n_init` will change from 10 to 'auto' in 1.4. Set the value of `n_init` explicitly to suppress the warning\n",
      "  super()._check_params_vs_input(X, default_n_init=10)\n",
      "/data/miniconda3/envs/env_clone-3.9.16/lib/python3.9/site-packages/sklearn/cluster/_kmeans.py:1416: FutureWarning: The default value of `n_init` will change from 10 to 'auto' in 1.4. Set the value of `n_init` explicitly to suppress the warning\n",
      "  super()._check_params_vs_input(X, default_n_init=10)\n",
      "/data/miniconda3/envs/env_clone-3.9.16/lib/python3.9/site-packages/sklearn/cluster/_kmeans.py:1416: FutureWarning: The default value of `n_init` will change from 10 to 'auto' in 1.4. Set the value of `n_init` explicitly to suppress the warning\n",
      "  super()._check_params_vs_input(X, default_n_init=10)\n",
      "/data/miniconda3/envs/env_clone-3.9.16/lib/python3.9/site-packages/sklearn/cluster/_kmeans.py:1416: FutureWarning: The default value of `n_init` will change from 10 to 'auto' in 1.4. Set the value of `n_init` explicitly to suppress the warning\n",
      "  super()._check_params_vs_input(X, default_n_init=10)\n",
      "/data/miniconda3/envs/env_clone-3.9.16/lib/python3.9/site-packages/sklearn/cluster/_kmeans.py:1416: FutureWarning: The default value of `n_init` will change from 10 to 'auto' in 1.4. Set the value of `n_init` explicitly to suppress the warning\n",
      "  super()._check_params_vs_input(X, default_n_init=10)\n",
      "/data/miniconda3/envs/env_clone-3.9.16/lib/python3.9/site-packages/sklearn/cluster/_kmeans.py:1416: FutureWarning: The default value of `n_init` will change from 10 to 'auto' in 1.4. Set the value of `n_init` explicitly to suppress the warning\n",
      "  super()._check_params_vs_input(X, default_n_init=10)\n",
      "/data/miniconda3/envs/env_clone-3.9.16/lib/python3.9/site-packages/sklearn/cluster/_kmeans.py:1416: FutureWarning: The default value of `n_init` will change from 10 to 'auto' in 1.4. Set the value of `n_init` explicitly to suppress the warning\n",
      "  super()._check_params_vs_input(X, default_n_init=10)\n",
      "/data/miniconda3/envs/env_clone-3.9.16/lib/python3.9/site-packages/sklearn/cluster/_kmeans.py:1416: FutureWarning: The default value of `n_init` will change from 10 to 'auto' in 1.4. Set the value of `n_init` explicitly to suppress the warning\n",
      "  super()._check_params_vs_input(X, default_n_init=10)\n",
      "/data/miniconda3/envs/env_clone-3.9.16/lib/python3.9/site-packages/sklearn/cluster/_kmeans.py:1416: FutureWarning: The default value of `n_init` will change from 10 to 'auto' in 1.4. Set the value of `n_init` explicitly to suppress the warning\n",
      "  super()._check_params_vs_input(X, default_n_init=10)\n",
      "/data/miniconda3/envs/env_clone-3.9.16/lib/python3.9/site-packages/sklearn/cluster/_kmeans.py:1416: FutureWarning: The default value of `n_init` will change from 10 to 'auto' in 1.4. Set the value of `n_init` explicitly to suppress the warning\n",
      "  super()._check_params_vs_input(X, default_n_init=10)\n",
      "/data/miniconda3/envs/env_clone-3.9.16/lib/python3.9/site-packages/sklearn/cluster/_kmeans.py:1416: FutureWarning: The default value of `n_init` will change from 10 to 'auto' in 1.4. Set the value of `n_init` explicitly to suppress the warning\n",
      "  super()._check_params_vs_input(X, default_n_init=10)\n",
      "/data/miniconda3/envs/env_clone-3.9.16/lib/python3.9/site-packages/sklearn/cluster/_kmeans.py:1416: FutureWarning: The default value of `n_init` will change from 10 to 'auto' in 1.4. Set the value of `n_init` explicitly to suppress the warning\n",
      "  super()._check_params_vs_input(X, default_n_init=10)\n",
      "/data/miniconda3/envs/env_clone-3.9.16/lib/python3.9/site-packages/sklearn/cluster/_kmeans.py:1416: FutureWarning: The default value of `n_init` will change from 10 to 'auto' in 1.4. Set the value of `n_init` explicitly to suppress the warning\n",
      "  super()._check_params_vs_input(X, default_n_init=10)\n",
      "/data/miniconda3/envs/env_clone-3.9.16/lib/python3.9/site-packages/sklearn/cluster/_kmeans.py:1416: FutureWarning: The default value of `n_init` will change from 10 to 'auto' in 1.4. Set the value of `n_init` explicitly to suppress the warning\n",
      "  super()._check_params_vs_input(X, default_n_init=10)\n",
      "/data/miniconda3/envs/env_clone-3.9.16/lib/python3.9/site-packages/sklearn/cluster/_kmeans.py:1416: FutureWarning: The default value of `n_init` will change from 10 to 'auto' in 1.4. Set the value of `n_init` explicitly to suppress the warning\n",
      "  super()._check_params_vs_input(X, default_n_init=10)\n",
      "/data/miniconda3/envs/env_clone-3.9.16/lib/python3.9/site-packages/sklearn/cluster/_kmeans.py:1416: FutureWarning: The default value of `n_init` will change from 10 to 'auto' in 1.4. Set the value of `n_init` explicitly to suppress the warning\n",
      "  super()._check_params_vs_input(X, default_n_init=10)\n",
      "/data/miniconda3/envs/env_clone-3.9.16/lib/python3.9/site-packages/sklearn/cluster/_kmeans.py:1416: FutureWarning: The default value of `n_init` will change from 10 to 'auto' in 1.4. Set the value of `n_init` explicitly to suppress the warning\n",
      "  super()._check_params_vs_input(X, default_n_init=10)\n",
      "/data/miniconda3/envs/env_clone-3.9.16/lib/python3.9/site-packages/sklearn/cluster/_kmeans.py:1416: FutureWarning: The default value of `n_init` will change from 10 to 'auto' in 1.4. Set the value of `n_init` explicitly to suppress the warning\n",
      "  super()._check_params_vs_input(X, default_n_init=10)\n",
      "/data/miniconda3/envs/env_clone-3.9.16/lib/python3.9/site-packages/sklearn/cluster/_kmeans.py:1416: FutureWarning: The default value of `n_init` will change from 10 to 'auto' in 1.4. Set the value of `n_init` explicitly to suppress the warning\n",
      "  super()._check_params_vs_input(X, default_n_init=10)\n",
      "/data/miniconda3/envs/env_clone-3.9.16/lib/python3.9/site-packages/sklearn/cluster/_kmeans.py:1416: FutureWarning: The default value of `n_init` will change from 10 to 'auto' in 1.4. Set the value of `n_init` explicitly to suppress the warning\n",
      "  super()._check_params_vs_input(X, default_n_init=10)\n",
      "/data/miniconda3/envs/env_clone-3.9.16/lib/python3.9/site-packages/sklearn/cluster/_kmeans.py:1416: FutureWarning: The default value of `n_init` will change from 10 to 'auto' in 1.4. Set the value of `n_init` explicitly to suppress the warning\n",
      "  super()._check_params_vs_input(X, default_n_init=10)\n",
      "/data/miniconda3/envs/env_clone-3.9.16/lib/python3.9/site-packages/sklearn/cluster/_kmeans.py:1416: FutureWarning: The default value of `n_init` will change from 10 to 'auto' in 1.4. Set the value of `n_init` explicitly to suppress the warning\n",
      "  super()._check_params_vs_input(X, default_n_init=10)\n",
      "/data/miniconda3/envs/env_clone-3.9.16/lib/python3.9/site-packages/sklearn/cluster/_kmeans.py:1416: FutureWarning: The default value of `n_init` will change from 10 to 'auto' in 1.4. Set the value of `n_init` explicitly to suppress the warning\n",
      "  super()._check_params_vs_input(X, default_n_init=10)\n",
      "/data/miniconda3/envs/env_clone-3.9.16/lib/python3.9/site-packages/sklearn/cluster/_kmeans.py:1416: FutureWarning: The default value of `n_init` will change from 10 to 'auto' in 1.4. Set the value of `n_init` explicitly to suppress the warning\n",
      "  super()._check_params_vs_input(X, default_n_init=10)\n",
      "/data/miniconda3/envs/env_clone-3.9.16/lib/python3.9/site-packages/sklearn/cluster/_kmeans.py:1416: FutureWarning: The default value of `n_init` will change from 10 to 'auto' in 1.4. Set the value of `n_init` explicitly to suppress the warning\n",
      "  super()._check_params_vs_input(X, default_n_init=10)\n",
      "/data/miniconda3/envs/env_clone-3.9.16/lib/python3.9/site-packages/sklearn/cluster/_kmeans.py:1416: FutureWarning: The default value of `n_init` will change from 10 to 'auto' in 1.4. Set the value of `n_init` explicitly to suppress the warning\n",
      "  super()._check_params_vs_input(X, default_n_init=10)\n",
      "/data/miniconda3/envs/env_clone-3.9.16/lib/python3.9/site-packages/sklearn/cluster/_kmeans.py:1416: FutureWarning: The default value of `n_init` will change from 10 to 'auto' in 1.4. Set the value of `n_init` explicitly to suppress the warning\n",
      "  super()._check_params_vs_input(X, default_n_init=10)\n",
      "/data/miniconda3/envs/env_clone-3.9.16/lib/python3.9/site-packages/sklearn/cluster/_kmeans.py:1416: FutureWarning: The default value of `n_init` will change from 10 to 'auto' in 1.4. Set the value of `n_init` explicitly to suppress the warning\n",
      "  super()._check_params_vs_input(X, default_n_init=10)\n",
      "/data/miniconda3/envs/env_clone-3.9.16/lib/python3.9/site-packages/sklearn/cluster/_kmeans.py:1416: FutureWarning: The default value of `n_init` will change from 10 to 'auto' in 1.4. Set the value of `n_init` explicitly to suppress the warning\n",
      "  super()._check_params_vs_input(X, default_n_init=10)\n",
      "/data/miniconda3/envs/env_clone-3.9.16/lib/python3.9/site-packages/sklearn/cluster/_kmeans.py:1416: FutureWarning: The default value of `n_init` will change from 10 to 'auto' in 1.4. Set the value of `n_init` explicitly to suppress the warning\n",
      "  super()._check_params_vs_input(X, default_n_init=10)\n",
      "/data/miniconda3/envs/env_clone-3.9.16/lib/python3.9/site-packages/sklearn/cluster/_kmeans.py:1416: FutureWarning: The default value of `n_init` will change from 10 to 'auto' in 1.4. Set the value of `n_init` explicitly to suppress the warning\n",
      "  super()._check_params_vs_input(X, default_n_init=10)\n",
      "/data/miniconda3/envs/env_clone-3.9.16/lib/python3.9/site-packages/sklearn/cluster/_kmeans.py:1416: FutureWarning: The default value of `n_init` will change from 10 to 'auto' in 1.4. Set the value of `n_init` explicitly to suppress the warning\n",
      "  super()._check_params_vs_input(X, default_n_init=10)\n",
      "/data/miniconda3/envs/env_clone-3.9.16/lib/python3.9/site-packages/sklearn/cluster/_kmeans.py:1416: FutureWarning: The default value of `n_init` will change from 10 to 'auto' in 1.4. Set the value of `n_init` explicitly to suppress the warning\n",
      "  super()._check_params_vs_input(X, default_n_init=10)\n",
      "/data/miniconda3/envs/env_clone-3.9.16/lib/python3.9/site-packages/sklearn/cluster/_kmeans.py:1416: FutureWarning: The default value of `n_init` will change from 10 to 'auto' in 1.4. Set the value of `n_init` explicitly to suppress the warning\n",
      "  super()._check_params_vs_input(X, default_n_init=10)\n",
      "/data/miniconda3/envs/env_clone-3.9.16/lib/python3.9/site-packages/sklearn/cluster/_kmeans.py:1416: FutureWarning: The default value of `n_init` will change from 10 to 'auto' in 1.4. Set the value of `n_init` explicitly to suppress the warning\n",
      "  super()._check_params_vs_input(X, default_n_init=10)\n",
      "/data/miniconda3/envs/env_clone-3.9.16/lib/python3.9/site-packages/sklearn/cluster/_kmeans.py:1416: FutureWarning: The default value of `n_init` will change from 10 to 'auto' in 1.4. Set the value of `n_init` explicitly to suppress the warning\n",
      "  super()._check_params_vs_input(X, default_n_init=10)\n",
      "/data/miniconda3/envs/env_clone-3.9.16/lib/python3.9/site-packages/sklearn/cluster/_kmeans.py:1416: FutureWarning: The default value of `n_init` will change from 10 to 'auto' in 1.4. Set the value of `n_init` explicitly to suppress the warning\n",
      "  super()._check_params_vs_input(X, default_n_init=10)\n",
      "/data/miniconda3/envs/env_clone-3.9.16/lib/python3.9/site-packages/sklearn/cluster/_kmeans.py:1416: FutureWarning: The default value of `n_init` will change from 10 to 'auto' in 1.4. Set the value of `n_init` explicitly to suppress the warning\n",
      "  super()._check_params_vs_input(X, default_n_init=10)\n",
      "/data/miniconda3/envs/env_clone-3.9.16/lib/python3.9/site-packages/sklearn/cluster/_kmeans.py:1416: FutureWarning: The default value of `n_init` will change from 10 to 'auto' in 1.4. Set the value of `n_init` explicitly to suppress the warning\n",
      "  super()._check_params_vs_input(X, default_n_init=10)\n",
      "/data/miniconda3/envs/env_clone-3.9.16/lib/python3.9/site-packages/sklearn/cluster/_kmeans.py:1416: FutureWarning: The default value of `n_init` will change from 10 to 'auto' in 1.4. Set the value of `n_init` explicitly to suppress the warning\n",
      "  super()._check_params_vs_input(X, default_n_init=10)\n",
      "/data/miniconda3/envs/env_clone-3.9.16/lib/python3.9/site-packages/sklearn/cluster/_kmeans.py:1416: FutureWarning: The default value of `n_init` will change from 10 to 'auto' in 1.4. Set the value of `n_init` explicitly to suppress the warning\n",
      "  super()._check_params_vs_input(X, default_n_init=10)\n",
      "/data/miniconda3/envs/env_clone-3.9.16/lib/python3.9/site-packages/sklearn/cluster/_kmeans.py:1416: FutureWarning: The default value of `n_init` will change from 10 to 'auto' in 1.4. Set the value of `n_init` explicitly to suppress the warning\n",
      "  super()._check_params_vs_input(X, default_n_init=10)\n",
      "/data/miniconda3/envs/env_clone-3.9.16/lib/python3.9/site-packages/sklearn/cluster/_kmeans.py:1416: FutureWarning: The default value of `n_init` will change from 10 to 'auto' in 1.4. Set the value of `n_init` explicitly to suppress the warning\n",
      "  super()._check_params_vs_input(X, default_n_init=10)\n",
      "/data/miniconda3/envs/env_clone-3.9.16/lib/python3.9/site-packages/sklearn/cluster/_kmeans.py:1416: FutureWarning: The default value of `n_init` will change from 10 to 'auto' in 1.4. Set the value of `n_init` explicitly to suppress the warning\n",
      "  super()._check_params_vs_input(X, default_n_init=10)\n",
      "/data/miniconda3/envs/env_clone-3.9.16/lib/python3.9/site-packages/sklearn/cluster/_kmeans.py:1416: FutureWarning: The default value of `n_init` will change from 10 to 'auto' in 1.4. Set the value of `n_init` explicitly to suppress the warning\n",
      "  super()._check_params_vs_input(X, default_n_init=10)\n",
      "/data/miniconda3/envs/env_clone-3.9.16/lib/python3.9/site-packages/sklearn/cluster/_kmeans.py:1416: FutureWarning: The default value of `n_init` will change from 10 to 'auto' in 1.4. Set the value of `n_init` explicitly to suppress the warning\n",
      "  super()._check_params_vs_input(X, default_n_init=10)\n",
      "/data/miniconda3/envs/env_clone-3.9.16/lib/python3.9/site-packages/sklearn/cluster/_kmeans.py:1416: FutureWarning: The default value of `n_init` will change from 10 to 'auto' in 1.4. Set the value of `n_init` explicitly to suppress the warning\n",
      "  super()._check_params_vs_input(X, default_n_init=10)\n",
      "/data/miniconda3/envs/env_clone-3.9.16/lib/python3.9/site-packages/sklearn/cluster/_kmeans.py:1416: FutureWarning: The default value of `n_init` will change from 10 to 'auto' in 1.4. Set the value of `n_init` explicitly to suppress the warning\n",
      "  super()._check_params_vs_input(X, default_n_init=10)\n",
      "/data/miniconda3/envs/env_clone-3.9.16/lib/python3.9/site-packages/sklearn/cluster/_kmeans.py:1416: FutureWarning: The default value of `n_init` will change from 10 to 'auto' in 1.4. Set the value of `n_init` explicitly to suppress the warning\n",
      "  super()._check_params_vs_input(X, default_n_init=10)\n",
      "/data/miniconda3/envs/env_clone-3.9.16/lib/python3.9/site-packages/sklearn/cluster/_kmeans.py:1416: FutureWarning: The default value of `n_init` will change from 10 to 'auto' in 1.4. Set the value of `n_init` explicitly to suppress the warning\n",
      "  super()._check_params_vs_input(X, default_n_init=10)\n"
     ]
    }
   ],
   "source": [
    "from KNN_RE import check_list, check_Semantics_list, get_top_index\n",
    "\n",
    "if use_knn:\n",
    "    knn_select = find_knn_example(knn_model, test_data, train_dict, k_sample, True)\n",
    "    Filter_all = Filter(train_list)\n",
    "    # knn_select = check_list_top5(knn_select, Filter_all)\n",
    "    # # 创建语义反事实空间\n",
    "    semantic_items = Filter_all.entMask_distort()\n",
    "    train_distort = [Filter_all.get_distort_sen(x) for x in semantic_items]\n",
    "    train_distor_dict = {Filter_all.get_distort_sen(x):x for x in semantic_items}\n",
    "    # # 创建长度反事实空间\n",
    "    # lengths_items = Filter_all.length_distort('/group/40064/johnbli/Code/GPT-RE/dataset/semeval_gpt/train_len_distort.json')\n",
    "    # train_distort = [instance(x).reference for x in lengths_items]\n",
    "    # train_distor_dict = {instance(x).reference : x for x in lengths_items}\n",
    "    # # 创建分布反事实空间\n",
    "    # knn_model_distort.build_index(train_distort, device=\"cpu\")\n",
    "\n",
    "\n",
    "    knn_model_distort = SimCSE(\"/group/40064/johnbli/bert-based-models/sup-simcse-roberta-large\")\n",
    "    index_flat = faiss.IndexFlatL2(1024)  # 创建一个使用L2距离的平面索引\n",
    "    cpu_index_flat = index_flat  # 直接使用CPU索引\n",
    "    train_embeddings = get_embeddings(semantic_items, knn_model_distort)\n",
    "    embed_list = np.array(train_embeddings)\n",
    "    cpu_index_flat.add(embed_list)  # 使用CPU索引添加特征向量\n",
    "    distribution_score = check_Semantics_list(knn_select, Filter_all) #分布偏差分数"
   ]
  },
  {
   "cell_type": "code",
   "execution_count": 98,
   "metadata": {},
   "outputs": [],
   "source": [
    "if use_knn:\n",
    "    top_index = get_top_index(knn_select, distribution_score, 0.07)\n",
    "    # 修改examples\n",
    "    new_test_data = []\n",
    "    for idx in top_index:\n",
    "        new_test_data.append(test_data[idx])\n",
    "    "
   ]
  },
  {
   "cell_type": "code",
   "execution_count": 99,
   "metadata": {},
   "outputs": [],
   "source": [
    "def entMask_distort(items):\n",
    "    OUT = []\n",
    "    for item_train in items:\n",
    "        item = copy.deepcopy(item_train)\n",
    "        sentences_list = item[\"sentences\"][0]\n",
    "        ent1 = 'Mask1'\n",
    "        ent2 = 'Mask2'\n",
    "        if item[\"ner\"][0][1][0] < item[\"ner\"][0][0][0]:\n",
    "            sentences_list[item[\"ner\"][0][0][0]:item[\"ner\"][0][0][1]+1] = [ent1]\n",
    "            sentences_list[item[\"ner\"][0][1][0]:item[\"ner\"][0][1][1]+1] = [ent2]\n",
    "        else:\n",
    "            sentences_list[item[\"ner\"][0][1][0]:item[\"ner\"][0][1][1]+1] = [ent2]\n",
    "            sentences_list[item[\"ner\"][0][0][0]:item[\"ner\"][0][0][1]+1] = [ent1]\n",
    "\n",
    "        item[\"sentences\"][0] = sentences_list\n",
    "        p1 = -1\n",
    "        p2 = -1\n",
    "        for i,word in enumerate(sentences_list):\n",
    "            if word == 'Mask1':\n",
    "                p1 = i\n",
    "            if word == 'Mask2':\n",
    "                p2 = i\n",
    "        if p1 != -1 and p2 != -1:\n",
    "            item['origin'] = item_train\n",
    "            item[\"ner\"][0][0][0] = p1 \n",
    "            item[\"ner\"][0][0][1] = p1\n",
    "            item[\"ner\"][0][1][0] = p2 \n",
    "            item[\"ner\"][0][1][1] = p2\n",
    "            item['relations'] = [[[p1, p1, p2, p2, item[\"relations\"][0][0][-1]]]]\n",
    "            OUT.append(item)\n",
    "    return OUT"
   ]
  },
  {
   "cell_type": "code",
   "execution_count": 100,
   "metadata": {},
   "outputs": [
    {
     "output_type": "stream",
     "name": "stderr",
     "text": [
      "100%|██████████| 3/3 [00:02<00:00,  1.04it/s]\n",
      "100%|██████████| 3/3 [00:02<00:00,  1.06it/s]\n"
     ]
    }
   ],
   "source": [
    "new_test_data = entMask_distort(new_test_data)\n",
    "test_samples = get_embeddings(new_test_data, knn_model_distort, False, 0)\n",
    "D, I = cpu_index_flat.search(test_samples, 3*k_sample)\n",
    "lm_select = []\n",
    "train_len = len(train_sentences)\n",
    "# 保证没有之前的KNN选的，也没有重复的\n",
    "for j in range(I.shape[0]):\n",
    "    origin_select = knn_select[top_index[j]]\n",
    "    index_list = []\n",
    "    for i in I[j,:3*k_sample]:\n",
    "        index = i % train_len\n",
    "        if (index not in index_list):# and (train_dict[train_sentences[index]] not in origin_select):\n",
    "            index_list.append(index)\n",
    "        if len(index_list)>=k_sample:\n",
    "            break\n",
    "    j_select = [train_dict[train_sentences[t]] for t in index_list]\n",
    "    lm_select.append(j_select)"
   ]
  },
  {
   "cell_type": "code",
   "execution_count": 101,
   "metadata": {},
   "outputs": [],
   "source": [
    "for i, idx in enumerate(top_index):\n",
    "    # a = [x['origin'] for x in new_items[i]]\n",
    "    knn_select[idx] = lm_select[i]\n"
   ]
  },
  {
   "cell_type": "code",
   "execution_count": 102,
   "metadata": {
    "tags": []
   },
   "outputs": [],
   "source": [
    "if use_pipline:\n",
    "    test_samples = get_emb(args, test_data, dataset, retriever_plm, k_sample, device)\n",
    "    D, I = cpu_index_flat.search(test_samples, k_sample)\n",
    "    lm_select = []\n",
    "    for j in range(I.shape[0]):\n",
    "        j_select = [train_dict[train_sentences[i]] for i in I[j,:k_sample]]\n",
    "        lm_select.append(j_select)\n",
    "    # lm_select = find_lmknn_example(cpu_index_flat, test_data, train_dict, train_sentences, k_sample)"
   ]
  },
  {
   "cell_type": "code",
   "execution_count": 109,
   "metadata": {
    "tags": []
   },
   "outputs": [
    {
     "output_type": "stream",
     "name": "stderr",
     "text": [
      "100%|██████████| 2717/2717 [17:18<00:00,  2.62it/s]\n"
     ]
    }
   ],
   "source": [
    "Labels = []\n",
    "predict = []\n",
    "op = []\n",
    "p1 = []\n",
    "p2 = []\n",
    "num = 0\n",
    "ids = 0\n",
    "predict1 = []\n",
    "filters = Filter(train_list)\n",
    "for test_item in tqdm(test_data):\n",
    "\n",
    "    sentences_list = test_item[\"sentences\"][0]\n",
    "    ent1 = \" \".join(sentences_list[test_item[\"ner\"][0][0][0]:test_item[\"ner\"][0][0][1]+1])\n",
    "    ent2 = \" \".join(sentences_list[test_item[\"ner\"][0][1][0]:test_item[\"ner\"][0][1][1]+1])\n",
    "    sentence = \" \".join(sentences_list)\n",
    "\n",
    "    rels = \"\"\n",
    "    rels_lst = {}\n",
    "    for k,v in semeval_idtoprompt.items():\n",
    "        rels = rels + v + '; '\n",
    "        rels_lst[v] = k\n",
    "    # 更详细的关系描述\n",
    "    # for k,v in SemEval_label2exp.items():  \n",
    "    #     rels = rels + k + \":\" + v + '\\n'\n",
    "    label = semeval_reltoid[test_item[\"relations\"][0][0][-1]]\n",
    "    # if ids not in top_index:\n",
    "    #     ids+=1\n",
    "    #     continue\n",
    "    \n",
    "    # 添加instance\n",
    "    example = \"\"\n",
    "    if use_instance:\n",
    "        if use_knn:\n",
    "            selected_items = knn_select[ids]\n",
    "            ids += 1\n",
    "            # print(selected_items)\n",
    "        elif use_pipline:\n",
    "            selected_items = lm_select[ids]\n",
    "            ids += 1\n",
    "        else:\n",
    "            current_list, wrong_list = filters.frequency_filter(test_item,10)\n",
    "            selected_items = random.sample(wrong_list, k_sample)\n",
    "        for i,item in enumerate(selected_items):\n",
    "\n",
    "            train_ent1,train_ent2,train_sentence,train_label = get_example(item)\n",
    "            train_label = semeval_idtoprompt[semeval_reltoid[train_label]]\n",
    "            example = example + TRAIN_SUP.format(num = i, ent1 = train_ent1,ent2 = train_ent2,label=train_label, sen = train_sentence)\n",
    "        # print(example)\n",
    "\n",
    "    Labels.append(label)\n",
    "    # res_lst = get_Qwen_res(ent1, ent2, rels, sentence)    #Qwen2.5-70b\n",
    "    # res_lst = gen_GPT_first_chat(ent1, ent2, rels, example, sentence)     #GPT-70b\n",
    "    res_lst = get_Qwen_res_7b(ent1, ent2, rels, example, sentence)        #Qwen2.5-7b\n",
    "     \n",
    "    res = res_lst[0].replace(\"Relation: \",\"\") # 无理由\n",
    "\n",
    "    if res not in rels_lst:\n",
    "        num += 1\n",
    "        predict.append(0 if label!=0 else 1)\n",
    "    else:\n",
    "        predict.append(rels_lst[res])\n"
   ]
  },
  {
   "cell_type": "code",
   "execution_count": 110,
   "metadata": {},
   "outputs": [
    {
     "output_type": "stream",
     "name": "stdout",
     "text": [
      "micro_f1 Score: 0.6021347073978653\nmacro_f1 Score: 0.5989836677757282\n"
     ]
    }
   ],
   "source": [
    "from sklearn.metrics import f1_score\n",
    "\n",
    "# 计算 F1 值\n",
    "macro_f1 = f1_score(Labels, predict, average='macro')  # 'weighted' 考虑各类标签的不平衡问题\n",
    "micro_f1 = f1_score(Labels, predict, average='micro')  # 'weighted' 考虑各类标签的不平衡问题\n",
    "\n",
    "print(\"micro_f1 Score:\", micro_f1)\n",
    "print(\"macro_f1 Score:\", macro_f1)"
   ]
  },
  {
   "cell_type": "code",
   "execution_count": 105,
   "metadata": {},
   "outputs": [
    {
     "output_type": "execute_result",
     "data": {
      "text/plain": [
       "[{'sentences': [['a',\n",
       "    'little',\n",
       "    'girl',\n",
       "    'came',\n",
       "    'out',\n",
       "    'of',\n",
       "    'the',\n",
       "    'closet',\n",
       "    ',',\n",
       "    'her',\n",
       "    'face',\n",
       "    'swollen',\n",
       "    'and',\n",
       "    'red',\n",
       "    'from',\n",
       "    'crying',\n",
       "    '.']],\n",
       "  'ner': [[[2, 2, 'sub'], [7, 7, 'obj']]],\n",
       "  'predicted_ner': [[[2, 2, 'sub'], [7, 7, 'obj']]],\n",
       "  'relations': [[[2, 2, 7, 7, 'Entity-Origin']]],\n",
       "  'doc_key': '4911oftrain'},\n",
       " {'sentences': [['it',\n",
       "    'was',\n",
       "    'intermittently',\n",
       "    'wet',\n",
       "    'and',\n",
       "    'dry',\n",
       "    ',',\n",
       "    'and',\n",
       "    'almost',\n",
       "    'always',\n",
       "    'followed',\n",
       "    'with',\n",
       "    'a',\n",
       "    'whine',\n",
       "    'and',\n",
       "    'often',\n",
       "    'a',\n",
       "    'few',\n",
       "    'tears',\n",
       "    'from',\n",
       "    'the',\n",
       "    'terrible',\n",
       "    'pain',\n",
       "    '.']],\n",
       "  'ner': [[[22, 22, 'obj'], [18, 18, 'sub']]],\n",
       "  'predicted_ner': [[[22, 22, 'obj'], [18, 18, 'sub']]],\n",
       "  'relations': [[[22, 22, 18, 18, 'Cause-Effect']]],\n",
       "  'doc_key': '2318oftrain'},\n",
       " {'sentences': [['marital',\n",
       "    'breakdown',\n",
       "    'is',\n",
       "    'often',\n",
       "    'attributed',\n",
       "    'to',\n",
       "    'unresolved',\n",
       "    'grief',\n",
       "    'from',\n",
       "    'infertility',\n",
       "    ',',\n",
       "    'miscarriage',\n",
       "    ',',\n",
       "    'and',\n",
       "    'the',\n",
       "    'loss',\n",
       "    'of',\n",
       "    'a',\n",
       "    'child',\n",
       "    '.']],\n",
       "  'ner': [[[11, 11, 'obj'], [7, 7, 'sub']]],\n",
       "  'predicted_ner': [[[11, 11, 'obj'], [7, 7, 'sub']]],\n",
       "  'relations': [[[11, 11, 7, 7, 'Cause-Effect']]],\n",
       "  'doc_key': '1961oftrain'},\n",
       " {'sentences': [['news',\n",
       "    'of',\n",
       "    'the',\n",
       "    'broken',\n",
       "    'engagement',\n",
       "    'came',\n",
       "    'three',\n",
       "    'months',\n",
       "    'after',\n",
       "    'love',\n",
       "    'hewitt',\n",
       "    'was',\n",
       "    'snapped',\n",
       "    'sobbing',\n",
       "    'as',\n",
       "    'he',\n",
       "    'packed',\n",
       "    'luggage',\n",
       "    'into',\n",
       "    'the',\n",
       "    'back',\n",
       "    'of',\n",
       "    'a',\n",
       "    'vehicle',\n",
       "    'outside',\n",
       "    'her',\n",
       "    'home',\n",
       "    '.']],\n",
       "  'ner': [[[17, 17, 'sub'], [23, 23, 'obj']]],\n",
       "  'predicted_ner': [[[17, 17, 'sub'], [23, 23, 'obj']]],\n",
       "  'relations': [[[17, 17, 23, 23, 'Entity-Destination']]],\n",
       "  'doc_key': '3062oftrain'},\n",
       " {'sentences': [['for',\n",
       "    'this',\n",
       "    'moment',\n",
       "    'with',\n",
       "    'you',\n",
       "    'gives',\n",
       "    'me',\n",
       "    'hope',\n",
       "    'of',\n",
       "    'happier',\n",
       "    'tomorrows',\n",
       "    'and',\n",
       "    'eases',\n",
       "    'the',\n",
       "    'pain',\n",
       "    'from',\n",
       "    'sad',\n",
       "    'yesterdays',\n",
       "    '.']],\n",
       "  'ner': [[[14, 14, 'sub'], [17, 17, 'obj']]],\n",
       "  'predicted_ner': [[[14, 14, 'sub'], [17, 17, 'obj']]],\n",
       "  'relations': [[[14, 14, 17, 17, 'Entity-Origin']]],\n",
       "  'doc_key': '4997oftrain'}]"
      ]
     },
     "metadata": {},
     "execution_count": 105
    }
   ],
   "source": [
    "lm_select[4]"
   ]
  },
  {
   "cell_type": "code",
   "execution_count": 106,
   "metadata": {},
   "outputs": [
    {
     "output_type": "execute_result",
     "data": {
      "text/plain": [
       "{'sentences': [['i',\n",
       "   'ca',\n",
       "   \"n't\",\n",
       "   'help',\n",
       "   'myself',\n",
       "   'crying',\n",
       "   ',',\n",
       "   'especially',\n",
       "   'when',\n",
       "   'the',\n",
       "   'Mask1',\n",
       "   'went',\n",
       "   'away',\n",
       "   'from',\n",
       "   'the',\n",
       "   'Mask2',\n",
       "   'in',\n",
       "   'sadness',\n",
       "   'during',\n",
       "   'the',\n",
       "   'boy',\n",
       "   'was',\n",
       "   'in',\n",
       "   'hospital',\n",
       "   '.']],\n",
       " 'ner': [[[10, 10, 'sub'], [15, 15, 'obj']]],\n",
       " 'predicted_ner': [[[10, 10, 'sub'], [15, 15, 'obj']]],\n",
       " 'relations': [[[10, 10, 15, 15, 'Entity-Origin']]],\n",
       " 'doc_key': '1917oftrain',\n",
       " 'origin': {'sentences': [['i',\n",
       "    'ca',\n",
       "    \"n't\",\n",
       "    'help',\n",
       "    'myself',\n",
       "    'crying',\n",
       "    ',',\n",
       "    'especially',\n",
       "    'when',\n",
       "    'the',\n",
       "    'girl',\n",
       "    'went',\n",
       "    'away',\n",
       "    'from',\n",
       "    'the',\n",
       "    'boy',\n",
       "    'in',\n",
       "    'sadness',\n",
       "    'during',\n",
       "    'the',\n",
       "    'boy',\n",
       "    'was',\n",
       "    'in',\n",
       "    'hospital',\n",
       "    '.']],\n",
       "  'ner': [[[10, 10, 'sub'], [15, 15, 'obj']]],\n",
       "  'predicted_ner': [[[10, 10, 'sub'], [15, 15, 'obj']]],\n",
       "  'relations': [[[10, 10, 15, 15, 'Entity-Origin']]],\n",
       "  'doc_key': '1917oftrain'}}"
      ]
     },
     "metadata": {},
     "execution_count": 106
    }
   ],
   "source": [
    "new_test_data[4]"
   ]
  },
  {
   "cell_type": "code",
   "execution_count": 107,
   "metadata": {},
   "outputs": [
    {
     "output_type": "execute_result",
     "data": {
      "text/plain": [
       "{'sentences': [['the',\n",
       "   'movie',\n",
       "   'featured',\n",
       "   'a',\n",
       "   'mutated',\n",
       "   'sheep',\n",
       "   'as',\n",
       "   'the',\n",
       "   'titular',\n",
       "   'monster',\n",
       "   ',',\n",
       "   'which',\n",
       "   'grew',\n",
       "   'larger',\n",
       "   'throughout',\n",
       "   'the',\n",
       "   'movie',\n",
       "   ',',\n",
       "   'until',\n",
       "   'it',\n",
       "   'exploded',\n",
       "   'in',\n",
       "   'the',\n",
       "   'climactic',\n",
       "   'scene',\n",
       "   '.']],\n",
       " 'ner': [[[1, 1, 'sub'], [5, 5, 'obj']]],\n",
       " 'predicted_ner': [[[1, 1, 'sub'], [5, 5, 'obj']]],\n",
       " 'relations': [[[1, 1, 5, 5, 'Message-Topic']]],\n",
       " 'doc_key': '38oftrain'}"
      ]
     },
     "metadata": {},
     "execution_count": 107
    }
   ],
   "source": [
    "test_data[38]"
   ]
  },
  {
   "cell_type": "code",
   "execution_count": 108,
   "metadata": {},
   "outputs": [
    {
     "output_type": "execute_result",
     "data": {
      "text/plain": [
       "7"
      ]
     },
     "metadata": {},
     "execution_count": 108
    }
   ],
   "source": [
    "predict[6]"
   ]
  },
  {
   "cell_type": "code",
   "execution_count": null,
   "metadata": {},
   "outputs": [],
   "source": [
    "micro_f1 Score: 0.6105263157894737\n",
    "macro_f1 Score: 0.5661905034097093"
   ]
  }
 ],
 "metadata": {
  "kernelspec": {
   "name": "python3",
   "display_name": "Python 3.9.16 64-bit ('env_clone-3.9.16': conda)",
   "metadata": {
    "interpreter": {
     "hash": "7ae9c97f290ede2c3f05d2d7cfbff41b9b48cc67ac3d685f1cae8159fc32dd86"
    }
   }
  },
  "language_info": {
   "codemirror_mode": {
    "name": "ipython",
    "version": 3
   },
   "file_extension": ".py",
   "mimetype": "text/x-python",
   "name": "python",
   "nbconvert_exporter": "python",
   "pygments_lexer": "ipython3",
   "version": "3.9.16"
  }
 },
 "nbformat": 4,
 "nbformat_minor": 5
}